{
 "cells": [
  {
   "cell_type": "code",
   "execution_count": 2,
   "metadata": {},
   "outputs": [],
   "source": [
    "from pysim import main"
   ]
  },
  {
   "cell_type": "code",
   "execution_count": 8,
   "metadata": {},
   "outputs": [
    {
     "name": "stdout",
     "output_type": "stream",
     "text": [
      "Usage: sim start [OPTIONS]\n",
      "\n",
      "Options:\n",
      "  -s, --speed INTEGER             Vehicle speed, kmph. You can provide\n",
      "                                  multiple values, e.g. `-s 10 -s 20 -s 80`\n",
      "                                  for parallel computation.  [default: 10]\n",
      "  -m, --encoding [1|2|4|8]        Tag encoding  [default: 2]\n",
      "  -t, --tari [6.25|12.5|18.75|25]\n",
      "                                  Tari value  [default: 12.5]\n",
      "  -ws, --tid-word-size INTEGER    Size of TID bank in words (x16 bits). This\n",
      "                                  is both TID bank size and the number of\n",
      "                                  words the reader requests from the tag. You\n",
      "                                  can provide multiple values for this\n",
      "                                  parameter for parallel computation.\n",
      "                                  [default: 64]\n",
      "  -a, --altitude FLOAT            Drone with RFID-reader altitude. You can\n",
      "                                  pass multiple values of this parameter for\n",
      "                                  parallel computation.  [default: 5.0]\n",
      "  -ro, --reader-offset FLOAT      Reader offset from the wall. You can pass\n",
      "                                  multiple values of this parameter for\n",
      "                                  parallel computation.  [default: 5.0]\n",
      "  -to, --tag-offset FLOAT         Tag offset from the wall. You can pass\n",
      "                                  multiple values of this parameter for\n",
      "                                  parallel computation.  [default: 5.0]\n",
      "  -p, --power FLOAT               Reader transmitter power. You can pass\n",
      "                                  multiple values of this parameter for\n",
      "                                  parallel computation  [default: 31.5]\n",
      "  -n, --num-tags INTEGER          Number of tags to simulate  [default: 100]\n",
      "  -j, --jobs INTEGER              Number of parallel jobs to run when multiple\n",
      "                                  arguments are given.  [default: 8]\n",
      "  -v, --verbose                   Print additional data, e.g. detailed model\n",
      "                                  configuration\n",
      "  --help                          Show this message and exit.\n"
     ]
    }
   ],
   "source": [
    "# Консольная команда для вызова справки от имитационной модели\n",
    "!sim start --help"
   ]
  },
  {
   "cell_type": "code",
   "execution_count": null,
   "metadata": {},
   "outputs": [],
   "source": [
    "# Пример консольной команды по вызову имитационной модели с определёнными параметрами\n",
    "!sim start -n 50 --encoding 8 --tari 25 --tid-word-size 256 --tag-offset 5 --reader-offset 5 --altitude 5 -p 29  -s 5 -s 10 -s 15 "
   ]
  }
 ],
 "metadata": {
  "kernelspec": {
   "display_name": "Python 3.9.13 ('.venv': venv)",
   "language": "python",
   "name": "python3"
  },
  "language_info": {
   "codemirror_mode": {
    "name": "ipython",
    "version": 3
   },
   "file_extension": ".py",
   "mimetype": "text/x-python",
   "name": "python",
   "nbconvert_exporter": "python",
   "pygments_lexer": "ipython3",
   "version": "3.9.13"
  },
  "orig_nbformat": 4,
  "vscode": {
   "interpreter": {
    "hash": "047a58030eefcbda05fcf55e4d6b89bfcf929594feaf930bd2fb72adbc2bdbca"
   }
  }
 },
 "nbformat": 4,
 "nbformat_minor": 2
}
